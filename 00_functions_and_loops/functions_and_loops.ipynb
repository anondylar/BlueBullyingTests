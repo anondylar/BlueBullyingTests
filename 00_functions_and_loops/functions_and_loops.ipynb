{
 "cells": [
  {
   "cell_type": "markdown",
   "metadata": {},
   "source": [
    "# Task 1: FizzBuzz\n",
    "\n",
    "Let's begin with a classic, FizzBuzz.\n",
    "\n",
    "In this task, you are to write a function, fizz_buzz(n), which accepts a single integer variable _n_. From 1 to _n_, inclusive, do the following:\n",
    "\n",
    "1. If the number is not divisible by both 3 and 5, print that number.\n",
    "2. If the number is divisible by 3, print \"Fizz\".\n",
    "3. If the number is divisible by 5, print \"Buzz\".\n",
    "4. If the number is divisible by _both_ 3 and 5, print \"FizzBuzz\".\n",
    "\n",
    "Your output should end with a single newline."
   ]
  },
  {
   "cell_type": "markdown",
   "metadata": {},
   "source": [
    "To give two examples, fizz_buzz(3) should print out the following:\n",
    "\n",
    "```\n",
    "1\n",
    "2\n",
    "Fizz \n",
    "```\n",
    "\n",
    "fizz_buzz(15) should print out the following:\n",
    "\n",
    "```\n",
    "1\n",
    "2\n",
    "Fizz\n",
    "4\n",
    "Buzz\n",
    "Fizz\n",
    "7\n",
    "8\n",
    "Fizz\n",
    "Buzz\n",
    "11\n",
    "Fizz\n",
    "13\n",
    "14\n",
    "FizzBuzz\n",
    "```"
   ]
  },
  {
   "cell_type": "code",
   "execution_count": null,
   "metadata": {},
   "outputs": [],
   "source": [
    "def fizz_buzz(n):\n",
    "    # YOUR CODE GOES HERE\n",
    "    pass"
   ]
  },
  {
   "cell_type": "markdown",
   "metadata": {},
   "source": [
    "### Hints\n",
    "The following links may be of help:\n",
    "\n",
    "For loops:\n",
    "\n",
    "https://docs.python.org/3/tutorial/controlflow.html#for-statements\n",
    "\n",
    "https://www.w3schools.com/python/python_for_loops.asp\n",
    "\n",
    "Range:\n",
    "\n",
    "https://docs.python.org/3/library/stdtypes.html#range\n",
    "\n",
    "https://www.w3schools.com/python/ref_func_range.asp\n",
    "\n",
    "Print:\n",
    "\n",
    "https://docs.python.org/3/library/functions.html#print\n",
    "\n",
    "https://www.w3schools.com/python/ref_func_print.asp"
   ]
  },
  {
   "cell_type": "markdown",
   "metadata": {},
   "source": [
    "When you're done, run the following cell to see if your program is correct or not."
   ]
  },
  {
   "cell_type": "code",
   "execution_count": null,
   "metadata": {},
   "outputs": [],
   "source": [
    "import io, contextlib\n",
    "import answer\n",
    "\n",
    "def test_fizz_buzz(func, n):\n",
    "    f = io.StringIO()\n",
    "    with contextlib.redirect_stdout(f):\n",
    "        func(n)\n",
    "    out = f.getvalue()\n",
    "\n",
    "    return out == answer.fizz_buzz(n)\n",
    "\n",
    "t_arr = [1, 2, 3, 10, 15, 20, 150, 234, 881, 1984, 2056, 5012]\n",
    "\n",
    "for n in t_arr:\n",
    "    if test_fizz_buzz(fizz_buzz, n):\n",
    "        print(f\"Test for n={n}\\t:\\033[96m PASSED \\x1b[0m\")\n",
    "    else:\n",
    "        print(f\"Test for n={n}\\t:\\033[91m FAILED \\x1b[0m\")"
   ]
  },
  {
   "cell_type": "markdown",
   "metadata": {},
   "source": [
    "# Task 2: Cirno's Special Math Class\n",
    "\n",
    "You are Cirno and Keine is testing you on basic math, including addition and multiplication.\n",
    "\n",
    "However, you are very stupid and you don't know how to multiply! But you are still a genius -- in particular, a genius at adding, and you remember that multiplication is just adding things together a lot, right?!\n",
    "\n",
    "That's right, all you have to do is write down the number on the left a number of times equal to the number on the right!"
   ]
  },
  {
   "cell_type": "markdown",
   "metadata": {},
   "source": [
    "In this task, write a function cirno_mult(x, y) that takes two integer _x_ and _y_ as parameters. \"Multiply\" _x_ by _y_, by concatenating _x_ to itself _y_ times.\n",
    "\n",
    "Return the result as an integer, not a string.\n",
    "\n",
    "Do not use the multiplication operator."
   ]
  },
  {
   "cell_type": "markdown",
   "metadata": {},
   "source": [
    "So, given _x_=5 and _y_=8:\n",
    "\n",
    "`55555555`\n",
    "\n",
    "and _x_=27 and _y_=3:\n",
    "\n",
    "`272727`"
   ]
  },
  {
   "cell_type": "code",
   "execution_count": null,
   "metadata": {},
   "outputs": [],
   "source": [
    "def cirno_mult(x, y):\n",
    "    # YOUR CODE GOES HERE\n",
    "    pass"
   ]
  },
  {
   "cell_type": "markdown",
   "metadata": {},
   "source": [
    "### Hints\n",
    "\n",
    "Str:\n",
    "\n",
    "https://www.w3schools.com/python/ref_func_str.asp\n",
    "\n",
    "Int:\n",
    "\n",
    "https://www.w3schools.com/python/ref_func_int.asp\n",
    "\n",
    "String Concatenation:\n",
    "\n",
    "https://www.w3schools.com/python/gloss_python_string_concatenation.asp"
   ]
  },
  {
   "cell_type": "markdown",
   "metadata": {},
   "source": [
    "When finished, run the cell below to check your answer:"
   ]
  },
  {
   "cell_type": "code",
   "execution_count": null,
   "metadata": {},
   "outputs": [],
   "source": [
    "import answer\n",
    "\n",
    "xs = [2, 4, 6, 13, 29, 193, 1252, 6939]\n",
    "ys = [1, 2, 3, 55, 3000, 593, 12, 33]\n",
    "\n",
    "for i in range(len(xs)):\n",
    "    x, y = xs[i], ys[i]\n",
    "    if cirno_mult(x, y) == answer.cirno_mult(x, y):\n",
    "        print(f\"Test for x={xs[i]}\\t y={ys[i]}\\t:\\033[96m PASSED \\x1b[0m\") \n",
    "    else:\n",
    "        print(f\"Test for x={xs[i]}\\t y={ys[i]}\\t:\\033[91m FAILED \\x1b[0m\")"
   ]
  },
  {
   "cell_type": "markdown",
   "metadata": {},
   "source": [
    "# Night of the Forts\n",
    "\n",
    "As a Zoomer, you are hopelessly addicted to the video game _Night of the Forts_, where you control an anthropomorphic fortress that can be equipped with guns. There are a lot of guns in the game but, being a gamer boy, you want to know which gun is the best.\n",
    "\n",
    "Each gun has two main characteristis: it's _damage_ per shot and _shots per minute_. By multiplying the two together, you get a gun's Damage per Minute, which of course is the only thing that matters.\n",
    "\n",
    "Given a list of tuples (name, damage, shots_per_minute), return the name of the best gun _and_ its dpm."
   ]
  },
  {
   "cell_type": "code",
   "execution_count": null,
   "metadata": {},
   "outputs": [],
   "source": [
    "def calc_best_dpm(guns):\n",
    "    for gun in guns:\n",
    "        name, damage, shots_per_min = gun\n",
    "        # YOUR CODE HERE\n",
    "    # return best_gun, dpm\n",
    "    pass\n"
   ]
  },
  {
   "cell_type": "markdown",
   "metadata": {},
   "source": [
    "When you're done, run the cell below."
   ]
  },
  {
   "cell_type": "code",
   "execution_count": null,
   "metadata": {},
   "outputs": [],
   "source": [
    "import answer\n",
    "\n",
    "guns1 = [\n",
    "    (\"Blaster\", 2, 50),\n",
    "    (\"Cannon\", 300, 2),\n",
    "    (\"Fire Hose\", 0.1, 10000)\n",
    "]\n",
    "\n",
    "guns2 = [\n",
    "    (\"Healray\", -5, 10),\n",
    "    (\"Blaster\", 2, 50),\n",
    "    (\"Cannon\", 30, 2),\n",
    "    (\"Holy Grenades (Trebuchet)\", 500, 0.33),\n",
    "    (\"Gatling Railgun\", 99999, 3000000)\n",
    "]\n",
    "\n",
    "if calc_best_dpm(guns1) == answer.calc_best_dpm(guns1):\n",
    "    print(f\"Test for question set guns1:\\033[96m PASSED \\x1b[0m\")\n",
    "else:\n",
    "    print(f\"Test for question set guns1:\\033[91m FAILED \\x1b[0m\")\n",
    "\n",
    "if calc_best_dpm(guns2) == answer.calc_best_dpm(guns2):\n",
    "    print(f\"Test for question set guns2:\\033[96m PASSED \\x1b[0m\")\n",
    "else:\n",
    "    print(f\"Test for question set guns2:\\033[91m FAILED \\x1b[0m\")"
   ]
  }
 ],
 "metadata": {
  "interpreter": {
   "hash": "b025d88a96cc8533cedc9efdf9f6701614362a02be43cf8c405ded9c5bf83506"
  },
  "kernelspec": {
   "display_name": "Python 3.10.0 64-bit",
   "language": "python",
   "name": "python3"
  },
  "language_info": {
   "codemirror_mode": {
    "name": "ipython",
    "version": 3
   },
   "file_extension": ".py",
   "mimetype": "text/x-python",
   "name": "python",
   "nbconvert_exporter": "python",
   "pygments_lexer": "ipython3",
   "version": "3.10.0"
  },
  "orig_nbformat": 4
 },
 "nbformat": 4,
 "nbformat_minor": 2
}
